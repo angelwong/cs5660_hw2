{
 "cells": [
  {
   "cell_type": "code",
   "execution_count": 6,
   "metadata": {
    "collapsed": false
   },
   "outputs": [
    {
     "name": "stdout",
     "output_type": "stream",
     "text": [
      "432 288\n",
      "519.199383667\n"
     ]
    }
   ],
   "source": [
    "from math import hypot, pi, cos, sin\n",
    "from PIL import Image\n",
    " \n",
    "def hough(im, ntx=460, mry=360):\n",
    "    \"Calculate Hough transform.\"\n",
    "    pim = im.load()\n",
    "    nimx, mimy = im.size\n",
    "    print nimx, mimy\n",
    "    mry = int(mry/2)*2          #Make sure that this is even\n",
    "    him = Image.new(\"L\", (ntx, mry), 255)\n",
    "    phim = him.load()\n",
    " \n",
    "    rmax = hypot(nimx, mimy)\n",
    "    print rmax\n",
    "    dr = rmax / (mry/2)\n",
    "    dth = pi / ntx\n",
    " \n",
    "    for jx in xrange(nimx):\n",
    "        for iy in xrange(mimy):\n",
    "            col = pim[jx, iy]\n",
    "            if col == 255: continue\n",
    "            for jtx in xrange(ntx):\n",
    "                th = dth * jtx\n",
    "                r = jx*cos(th) + iy*sin(th)\n",
    "                iry = mry/2 + int(r/dr+0.5)\n",
    "                phim[jtx, iry] -= 1\n",
    "    return him\n",
    " \n",
    " \n",
    "def test():\n",
    "    \"Test Hough transform with pentagon.\"\n",
    "    im = Image.open(\"time_pairs_1_1.png\").convert(\"L\")\n",
    "    him = hough(im)\n",
    "    him.save(\"ho5.bmp\")\n",
    " \n",
    " \n",
    "if __name__ == \"__main__\": test()"
   ]
  },
  {
   "cell_type": "code",
   "execution_count": 2,
   "metadata": {
    "collapsed": true
   },
   "outputs": [],
   "source": [
    "test()"
   ]
  },
  {
   "cell_type": "code",
   "execution_count": null,
   "metadata": {
    "collapsed": true
   },
   "outputs": [],
   "source": []
  }
 ],
 "metadata": {
  "kernelspec": {
   "display_name": "Python 2",
   "language": "python",
   "name": "python2"
  },
  "language_info": {
   "codemirror_mode": {
    "name": "ipython",
    "version": 2
   },
   "file_extension": ".py",
   "mimetype": "text/x-python",
   "name": "python",
   "nbconvert_exporter": "python",
   "pygments_lexer": "ipython2",
   "version": "2.7.10"
  }
 },
 "nbformat": 4,
 "nbformat_minor": 0
}
