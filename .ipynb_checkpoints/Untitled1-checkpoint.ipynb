{
 "cells": [
  {
   "cell_type": "code",
   "execution_count": null,
   "metadata": {
    "collapsed": true
   },
   "outputs": [],
   "source": [
    "from math import hypot, pi, cos, sin\n",
    "from PIL import Image\n",
    " \n",
    " \n",
    "def hough(im, ntx=460, mry=360):\n",
    "    \"Calculate Hough transform.\"\n",
    "    pim = im.load()\n",
    "    nimx, mimy = im.size\n",
    "    mry = int(mry/2)*2          #Make sure that this is even\n",
    "    him = Image.new(\"L\", (ntx, mry), 255)\n",
    "    phim = him.load()\n",
    " \n",
    "    rmax = hypot(nimx, mimy)\n",
    "    dr = rmax / (mry/2)\n",
    "    dth = pi / ntx\n",
    " \n",
    "    for jx in xrange(nimx):\n",
    "        for iy in xrange(mimy):\n",
    "            col = pim[jx, iy]\n",
    "            if col == 255: continue\n",
    "            for jtx in xrange(ntx):\n",
    "                th = dth * jtx\n",
    "                r = jx*cos(th) + iy*sin(th)\n",
    "                iry = mry/2 + int(r/dr+0.5)\n",
    "                phim[jtx, iry] -= 1\n",
    "    return him\n",
    " \n",
    " \n",
    "def test():\n",
    "    \"Test Hough transform with pentagon.\"\n",
    "    im = Image.open(\"pentagon.png\").convert(\"L\")\n",
    "    him = hough(im)\n",
    "    him.save(\"ho5.bmp\")\n",
    " \n",
    " \n",
    "if __name__ == \"__main__\": test()"
   ]
  }
 ],
 "metadata": {
  "kernelspec": {
   "display_name": "Python 2",
   "language": "python",
   "name": "python2"
  },
  "language_info": {
   "codemirror_mode": {
    "name": "ipython",
    "version": 2
   },
   "file_extension": ".py",
   "mimetype": "text/x-python",
   "name": "python",
   "nbconvert_exporter": "python",
   "pygments_lexer": "ipython2",
   "version": "2.7.10"
  }
 },
 "nbformat": 4,
 "nbformat_minor": 0
}
